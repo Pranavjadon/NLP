{
  "nbformat": 4,
  "nbformat_minor": 0,
  "metadata": {
    "colab": {
      "provenance": []
    },
    "kernelspec": {
      "name": "python3",
      "display_name": "Python 3"
    },
    "language_info": {
      "name": "python"
    }
  },
  "cells": [
    {
      "cell_type": "code",
      "execution_count": 2,
      "metadata": {
        "colab": {
          "base_uri": "https://localhost:8080/"
        },
        "id": "Wb6EdWx_aBfH",
        "outputId": "ce64fbcb-eb72-4fff-eff7-e6eddc867185"
      },
      "outputs": [
        {
          "output_type": "stream",
          "name": "stdout",
          "text": [
            "Original Text 1:\n",
            "1. no wayyyy... i justtttttt found this crazyyyyy site on neural netzzzzz 🧠💥 and it's full of loooongggggg textssss and speeeelinggg errorssss 🤯🤯🤯!!! url was like www.braincoded.com//// lmao, try to survive it 🤣🤣\n",
            "\n",
            "Cleaned Text 1:\n",
            "1. no way. i jyoust foyound this careazy site on neyoyouareal netz and it is fyoul of long texts and speling eareareoares ! yoyouarel was like lmao tarey to syoyouarevive it\n",
            "\n",
            "--------------------\n",
            "Original Text 2:\n",
            "2. yo yo yo!!! checkkkkk this outttt – \"5 wayzzz A.I. is gonna take ya jobbbb\" 😭😭😭 article is WILD!! the way it’s writttten tho? full of l8 speak, emojis 🙈🙉🙊 and tons of extraaa characterzzzzzzzzzzzz. website: www.jobsaregone.ai////\n",
            "\n",
            "Cleaned Text 2:\n",
            "2. yo yo yo! check this oyout 5 wayz a.i. is gona take yoyou job areticle is wild! the way its wareiten tho? fyoul of late speak emojis and tons of extarea chareactearez. website\n",
            "\n",
            "--------------------\n",
            "Original Text 3:\n",
            "3. guysss i’m screaminnggggg!!!!!!! 🤣🤣🤣 this post abt chatGPT using telepathy??? i can't evennnnnn.\n",
            "\n",
            "Cleaned Text 3:\n",
            "3. gyouys im scareaming! this post abt chatgpt yousing telepathy? i ca not even.\n",
            "\n",
            "--------------------\n",
            "Original Text 4:\n",
            "4. bruhhhh… the LLM paper i found isss such a headache 😵‍💫 it’s got likkeeeeeeeeeeeee no formattingggg, weird symbollsss everywhere $$$%%%%@@@, and sooo many run-on sentencesssssss!! site link: www.llmchaos.org//// read at ur own peril 🔥🔥\n",
            "\n",
            "Cleaned Text 4:\n",
            "4. bareyouh the lm papeare i foyound is syouch a headache its got like no foaremating weiared symbols eveareywheare and so many areyounon sentences! site link aread at yoyouare own peareil\n",
            "\n",
            "--------------------\n",
            "Original Text 5:\n",
            "5. y’all everrrr seen an article that usezzz more emoji than textttt? 😂😂😂 this one about AI in datingggg apps is likee \"find ur luvvvv with algorithmzzz\" 💘💘💘💘💘… SOOO cringe + cluttered!!! link be: www.luvbot.ai//// go clean that mess fam 😩😩\n",
            "\n",
            "Cleaned Text 5:\n",
            "5. yal eveareareareare sen an areticle that yousez moare emoji than text? this one aboyout ai in dating aps is like find yoyouare lovev with algoareithmz so careinge clyouteared! link be go clean that mes fam\n",
            "\n",
            "--------------------\n"
          ]
        }
      ],
      "source": [
        "import re\n",
        "\n",
        "def clean_text(text):\n",
        "    text = text.lower()\n",
        "\n",
        "    text = re.sub(r'www\\.\\S+[/]*', '', text)\n",
        "    contractions = {\n",
        "        \"i'm\": \"i am\",\n",
        "        \"it's\": \"it is\",\n",
        "        \"ya\": \"you\",\n",
        "        \"ur\": \"your\",\n",
        "        \"luv\": \"love\",\n",
        "        \"l8\": \"late\",\n",
        "        \"u\": \"you\",\n",
        "        \"r\": \"are\",\n",
        "        \"n't\": \" not\",\n",
        "        \"<3\": \"love\"\n",
        "    }\n",
        "    for contraction, expansion in contractions.items():\n",
        "        text = text.replace(contraction, expansion)\n",
        "\n",
        "    text = re.sub(r'[^a-z0-9\\s.?!]', '', text)\n",
        "\n",
        "    text = re.sub(r'([a-z])\\1+', r'\\1', text)\n",
        "\n",
        "    text = re.sub(r'([.?!])\\1+', r'\\1', text)\n",
        "\n",
        "    text = re.sub(r'\\s+', ' ', text).strip()\n",
        "\n",
        "    return text\n",
        "\n",
        "raw_texts = [\n",
        "    \"1. no wayyyy... i justtttttt found this crazyyyyy site on neural netzzzzz 🧠💥 and it's full of loooongggggg textssss and speeeelinggg errorssss 🤯🤯🤯!!! url was like www.braincoded.com//// lmao, try to survive it 🤣🤣\",\n",
        "    \"2. yo yo yo!!! checkkkkk this outttt – \\\"5 wayzzz A.I. is gonna take ya jobbbb\\\" 😭😭😭 article is WILD!! the way it’s writttten tho? full of l8 speak, emojis 🙈🙉🙊 and tons of extraaa characterzzzzzzzzzzzz. website: www.jobsaregone.ai////\",\n",
        "    \"3. guysss i’m screaminnggggg!!!!!!! 🤣🤣🤣 this post abt chatGPT using telepathy??? i can't evennnnnn.\",\n",
        "    \"4. bruhhhh… the LLM paper i found isss such a headache 😵‍💫 it’s got likkeeeeeeeeeeeee no formattingggg, weird symbollsss everywhere $$$%%%%@@@, and sooo many run-on sentencesssssss!! site link: www.llmchaos.org//// read at ur own peril 🔥🔥\",\n",
        "    \"5. y’all everrrr seen an article that usezzz more emoji than textttt? 😂😂😂 this one about AI in datingggg apps is likee \\\"find ur luvvvv with algorithmzzz\\\" 💘💘💘💘💘… SOOO cringe + cluttered!!! link be: www.luvbot.ai//// go clean that mess fam 😩😩\"\n",
        "]\n",
        "\n",
        "for i, raw_text in enumerate(raw_texts):\n",
        "    cleaned_text = clean_text(raw_text)\n",
        "    print(f\"Original Text {i+1}:\\n{raw_text}\\n\")\n",
        "    print(f\"Cleaned Text {i+1}:\\n{cleaned_text}\\n\")\n",
        "    print(\"-\" * 20)"
      ]
    }
  ]
}