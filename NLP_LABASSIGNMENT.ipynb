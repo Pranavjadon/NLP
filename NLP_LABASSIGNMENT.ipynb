{
  "nbformat": 4,
  "nbformat_minor": 0,
  "metadata": {
    "colab": {
      "provenance": []
    },
    "kernelspec": {
      "name": "python3",
      "display_name": "Python 3"
    },
    "language_info": {
      "name": "python"
    }
  },
  "cells": [
    {
      "cell_type": "markdown",
      "source": [
        "Name- Pranav Singh\n",
        "Enrollment no- S25MCAG0065\n",
        "Batch-3"
      ],
      "metadata": {
        "id": "puwiK6NAZtCJ"
      }
    },
    {
      "cell_type": "code",
      "execution_count": null,
      "metadata": {
        "colab": {
          "base_uri": "https://localhost:8080/"
        },
        "id": "ZRCfd5A-Nk77",
        "outputId": "f8368967-8e51-4ae3-ceed-64898fa456b8"
      },
      "outputs": [
        {
          "output_type": "stream",
          "name": "stdout",
          "text": [
            "1. Domains Found: ['iitbhu.ac.in']\n"
          ]
        }
      ],
      "source": [
        "import re\n",
        "def extract_domains(text):\n",
        "    return re.findall(r'https?://(?:www\\.)?([^/\\s]+)', text)\n",
        "\n",
        "text1 = \"Visit our portal at https://www.iitbhu.ac.in for details.\"\n",
        "print(\"1. Domains Found:\", extract_domains(text1))"
      ]
    },
    {
      "cell_type": "code",
      "source": [
        "def extract_gmail_yahoo(text):\n",
        "    return re.findall(r'\\b[\\w\\.-]+@(?:gmail\\.com|yahoo\\.com)\\b', text)\n",
        "\n",
        "text2 = \"Send updates to abc123@yahoo.com and x.y.z@gmail.com\"\n",
        "print(\"2. Gmail/Yahoo Emails:\", extract_gmail_yahoo(text2))"
      ],
      "metadata": {
        "colab": {
          "base_uri": "https://localhost:8080/"
        },
        "id": "jb9y3KLsWJFB",
        "outputId": "94d31f02-c162-4f01-f6c5-7301944b13f3"
      },
      "execution_count": null,
      "outputs": [
        {
          "output_type": "stream",
          "name": "stdout",
          "text": [
            "2. Gmail/Yahoo Emails: ['abc123@yahoo.com', 'x.y.z@gmail.com']\n"
          ]
        }
      ]
    },
    {
      "cell_type": "code",
      "source": [
        "def hashtags_with_digits_underscores(text):\n",
        "    return re.findall(r'#\\w*[0-9_]\\w*', text)\n",
        "\n",
        "text3 = \"Today's highlights: #IndvsPak_2025 #Go_India #Cricket123\"\n",
        "print(\"3. Hashtags with Digits/Underscores:\", hashtags_with_digits_underscores(text3))"
      ],
      "metadata": {
        "colab": {
          "base_uri": "https://localhost:8080/"
        },
        "id": "d2KmzJwkWPEk",
        "outputId": "1d14303e-22ae-4857-e7b1-c77ffdfa542c"
      },
      "execution_count": null,
      "outputs": [
        {
          "output_type": "stream",
          "name": "stdout",
          "text": [
            "3. Hashtags with Digits/Underscores: ['#IndvsPak_2025', '#Go_India', '#Cricket123']\n"
          ]
        }
      ]
    },
    {
      "cell_type": "code",
      "source": [
        "def extract_mentions(text):\n",
        "    return re.findall(r'@[A-Za-z0-9_]+', text)\n",
        "\n",
        "text4 = \"@dr_singh! you were amazing @Minister@India\"\n",
        "print(\"4. Mentions Found:\", extract_mentions(text4))"
      ],
      "metadata": {
        "colab": {
          "base_uri": "https://localhost:8080/"
        },
        "id": "IjijhAGfWU5s",
        "outputId": "81be409c-47d2-4921-8bbe-b545f12a3820"
      },
      "execution_count": null,
      "outputs": [
        {
          "output_type": "stream",
          "name": "stdout",
          "text": [
            "4. Mentions Found: ['@dr_singh', '@Minister', '@India']\n"
          ]
        }
      ]
    },
    {
      "cell_type": "code",
      "source": [
        "def extract_numbers(text):\n",
        "    return re.findall(r'\\d+(?:\\.\\d+)?', text)\n",
        "\n",
        "text5 = \"The price increased from 45.60 to 99.99 in 3 days\"\n",
        "print(\"5. Numbers Found:\", extract_numbers(text5))"
      ],
      "metadata": {
        "colab": {
          "base_uri": "https://localhost:8080/"
        },
        "id": "8CkUgsy-WqxP",
        "outputId": "f90532aa-c432-4f85-8185-a78ee94169f8"
      },
      "execution_count": null,
      "outputs": [
        {
          "output_type": "stream",
          "name": "stdout",
          "text": [
            "5. Numbers Found: ['45.60', '99.99', '3']\n"
          ]
        }
      ]
    },
    {
      "cell_type": "code",
      "source": [
        "def extract_special_chars(text):\n",
        "    return re.findall(r'[^A-Za-z0-9\\s]', text)\n",
        "\n",
        "text6 = \"Whoa!! COVID-19 has changed the world @2020 #History\"\n",
        "print(\"6. Special Characters:\", extract_special_chars(text6))\n"
      ],
      "metadata": {
        "colab": {
          "base_uri": "https://localhost:8080/"
        },
        "id": "rbWu-F4OWwZ1",
        "outputId": "05dc3e58-542f-4121-f18e-6126f73c5268"
      },
      "execution_count": null,
      "outputs": [
        {
          "output_type": "stream",
          "name": "stdout",
          "text": [
            "6. Special Characters: ['!', '!', '-', '@', '#']\n"
          ]
        }
      ]
    },
    {
      "cell_type": "code",
      "source": [
        "def validate_vehicle_number(vnum):\n",
        "    return bool(re.fullmatch(r'[A-Z]{2}\\d{2}[A-Z]{2}\\d{4}', vnum))\n",
        "\n",
        "vnum1 = \"UP32GH1234\"\n",
        "vnum2 = \"up32gh1234\"\n",
        "print(\"7. Vehicle Validation (Valid):\", validate_vehicle_number(vnum1))\n",
        "print(\"7. Vehicle Validation (Invalid):\", validate_vehicle_number(vnum2))"
      ],
      "metadata": {
        "colab": {
          "base_uri": "https://localhost:8080/"
        },
        "id": "2TNZwGzNXKkn",
        "outputId": "3b154712-aeca-4ae6-f8ee-a8bb36791c74"
      },
      "execution_count": null,
      "outputs": [
        {
          "output_type": "stream",
          "name": "stdout",
          "text": [
            "7. Vehicle Validation (Valid): True\n",
            "7. Vehicle Validation (Invalid): False\n"
          ]
        }
      ]
    },
    {
      "cell_type": "code",
      "source": [
        "def normalize_text(text):\n",
        "    return re.sub(r'(.)\\1+', r'\\1', text)\n",
        "\n",
        "text7 = \"Ammmaaazing wooorrrkkk!!!\"\n",
        "print(\"8. Normalized Text:\", normalize_text(text7))\n"
      ],
      "metadata": {
        "colab": {
          "base_uri": "https://localhost:8080/"
        },
        "id": "0lzvlvWXXPeY",
        "outputId": "5cf8b27e-a9b6-4387-802e-245c51d1d0c8"
      },
      "execution_count": null,
      "outputs": [
        {
          "output_type": "stream",
          "name": "stdout",
          "text": [
            "8. Normalized Text: Amazing work!\n"
          ]
        }
      ]
    },
    {
      "cell_type": "code",
      "source": [
        "def extract_mobile_numbers(text):\n",
        "    return re.findall(r'(?:\\+91|0)[6789]\\d{9}', text)\n",
        "\n",
        "text8 = \"Call me at +919990001234 or 09990004567\"\n",
        "print(\"9. Mobile Numbers:\", extract_mobile_numbers(text8))\n"
      ],
      "metadata": {
        "colab": {
          "base_uri": "https://localhost:8080/"
        },
        "id": "vzc7wNgQXT0N",
        "outputId": "337f821c-c980-43be-849a-fea9b1c58c65"
      },
      "execution_count": null,
      "outputs": [
        {
          "output_type": "stream",
          "name": "stdout",
          "text": [
            "9. Mobile Numbers: ['+919990001234', '09990004567']\n"
          ]
        }
      ]
    },
    {
      "cell_type": "code",
      "source": [
        "def extract_proper_nouns(text):\n",
        "    return re.findall(r'(?<!\\.\\s)(?<!^)\\b[A-Z][a-z]+\\b', text)\n",
        "\n",
        "text9 = \"Delhi is the capital of India. Narendra Modi is the Prime Minister.\"\n",
        "print(\"10. Proper Nouns:\", extract_proper_nouns(text9))"
      ],
      "metadata": {
        "colab": {
          "base_uri": "https://localhost:8080/"
        },
        "id": "18LCa2o0Xl_1",
        "outputId": "8a6510be-5daa-486b-ab59-94b3eda89ea0"
      },
      "execution_count": null,
      "outputs": [
        {
          "output_type": "stream",
          "name": "stdout",
          "text": [
            "10. Proper Nouns: ['India', 'Modi', 'Prime', 'Minister']\n"
          ]
        }
      ]
    }
  ]
}